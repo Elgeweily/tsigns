{
 "cells": [
  {
   "cell_type": "markdown",
   "metadata": {},
   "source": [
    "# Self-Driving Car Engineer Nanodegree\n",
    "\n",
    "## Deep Learning\n",
    "\n",
    "## Project: Build a Traffic Sign Recognition Classifier\n",
    "\n",
    "In this notebook, a template is provided for you to implement your functionality in stages, which is required to successfully complete this project. If additional code is required that cannot be included in the notebook, be sure that the Python code is successfully imported and included in your submission if necessary. \n",
    "\n",
    "> **Note**: Once you have completed all of the code implementations, you need to finalize your work by exporting the iPython Notebook as an HTML document. Before exporting the notebook to html, all of the code cells need to have been run so that reviewers can see the final implementation and output. You can then export the notebook by using the menu above and navigating to  \\n\",\n",
    "    \"**File -> Download as -> HTML (.html)**. Include the finished document along with this notebook as your submission. \n",
    "\n",
    "In addition to implementing code, there is a writeup to complete. The writeup should be completed in a separate file, which can be either a markdown file or a pdf document. There is a [write up template](https://github.com/udacity/CarND-Traffic-Sign-Classifier-Project/blob/master/writeup_template.md) that can be used to guide the writing process. Completing the code template and writeup template will cover all of the [rubric points](https://review.udacity.com/#!/rubrics/481/view) for this project.\n",
    "\n",
    "The [rubric](https://review.udacity.com/#!/rubrics/481/view) contains \"Stand Out Suggestions\" for enhancing the project beyond the minimum requirements. The stand out suggestions are optional. If you decide to pursue the \"stand out suggestions\", you can include the code in this Ipython notebook and also discuss the results in the writeup file.\n",
    "\n",
    "\n",
    ">**Note:** Code and Markdown cells can be executed using the **Shift + Enter** keyboard shortcut. In addition, Markdown cells can be edited by typically double-clicking the cell to enter edit mode."
   ]
  },
  {
   "cell_type": "markdown",
   "metadata": {},
   "source": [
    "---\n",
    "## Step 0: Load The Data"
   ]
  },
  {
   "cell_type": "code",
   "execution_count": null,
   "metadata": {},
   "outputs": [],
   "source": [
    "# Load pickled data\n",
    "import pickle\n",
    "from sklearn.model_selection import train_test_split\n",
    "\n",
    "# TODO: Fill this in based on where you saved the training and testing data\n",
    "\n",
    "training_file = 'data/train.p'\n",
    "validation_file= 'data/valid.p'\n",
    "testing_file = 'data/test.p'\n",
    "\n",
    "with open(training_file, mode='rb') as f:\n",
    "    train = pickle.load(f)\n",
    "with open(validation_file, mode='rb') as f:\n",
    "    valid = pickle.load(f)\n",
    "with open(testing_file, mode='rb') as f:\n",
    "    test = pickle.load(f)\n",
    "    \n",
    "x_train, y_train = train['features'], train['labels']\n",
    "x_valid, y_valid = valid['features'], valid['labels']\n",
    "x_test, y_test = test['features'], test['labels']"
   ]
  },
  {
   "cell_type": "markdown",
   "metadata": {},
   "source": [
    "---\n",
    "\n",
    "## Step 1: Dataset Summary & Exploration\n",
    "\n",
    "The pickled data is a dictionary with 4 key/value pairs:\n",
    "\n",
    "- `'features'` is a 4D array containing raw pixel data of the traffic sign images, (num examples, width, height, channels).\n",
    "- `'labels'` is a 1D array containing the label/class id of the traffic sign. The file `signnames.csv` contains id -> name mappings for each id.\n",
    "- `'sizes'` is a list containing tuples, (width, height) representing the original width and height the image.\n",
    "- `'coords'` is a list containing tuples, (x1, y1, x2, y2) representing coordinates of a bounding box around the sign in the image. **THESE COORDINATES ASSUME THE ORIGINAL IMAGE. THE PICKLED DATA CONTAINS RESIZED VERSIONS (32 by 32) OF THESE IMAGES**\n",
    "\n",
    "Complete the basic data summary below. Use python, numpy and/or pandas methods to calculate the data summary rather than hard coding the results. For example, the [pandas shape method](http://pandas.pydata.org/pandas-docs/stable/generated/pandas.DataFrame.shape.html) might be useful for calculating some of the summary results. "
   ]
  },
  {
   "cell_type": "markdown",
   "metadata": {},
   "source": [
    "### Provide a Basic Summary of the Data Set Using Python, Numpy and/or Pandas"
   ]
  },
  {
   "cell_type": "code",
   "execution_count": null,
   "metadata": {},
   "outputs": [],
   "source": [
    "### Replace each question mark with the appropriate value. \n",
    "### Use python, pandas or numpy methods rather than hard coding the results\n",
    "\n",
    "# TODO: Number of training examples\n",
    "n_train = len(x_train)\n",
    "\n",
    "# TODO: Number of validation examples\n",
    "n_validation = len(x_valid)\n",
    "\n",
    "# TODO: Number of testing examples.\n",
    "n_test = len(x_test)\n",
    "\n",
    "# TODO: What's the shape of an traffic sign image?\n",
    "image_shape = x_train.shape[1:3]\n",
    "\n",
    "# TODO: How many unique classes/labels there are in the dataset.\n",
    "n_classes = len(set(y_train))\n",
    "\n",
    "print(\"Number of training examples =\", n_train)\n",
    "print(\"Number of validation examples =\", n_validation)\n",
    "print(\"Number of testing examples =\", n_test)\n",
    "print(\"Image data shape =\", image_shape)\n",
    "print(\"Number of classes =\", n_classes)"
   ]
  },
  {
   "cell_type": "markdown",
   "metadata": {},
   "source": [
    "### Include an exploratory visualization of the dataset"
   ]
  },
  {
   "cell_type": "markdown",
   "metadata": {},
   "source": [
    "Visualize the German Traffic Signs Dataset using the pickled file(s). This is open ended, suggestions include: plotting traffic sign images, plotting the count of each sign, etc. \n",
    "\n",
    "The [Matplotlib](http://matplotlib.org/) [examples](http://matplotlib.org/examples/index.html) and [gallery](http://matplotlib.org/gallery.html) pages are a great resource for doing visualizations in Python.\n",
    "\n",
    "**NOTE:** It's recommended you start with something simple first. If you wish to do more, come back to it after you've completed the rest of the sections. It can be interesting to look at the distribution of classes in the training, validation and test set. Is the distribution the same? Are there more examples of some classes than others?"
   ]
  },
  {
   "cell_type": "code",
   "execution_count": null,
   "metadata": {},
   "outputs": [],
   "source": [
    "### Data exploration visualization code goes here.\n",
    "### Feel free to use as many code cells as needed.\n",
    "import numpy as np\n",
    "import random\n",
    "import matplotlib.pyplot as plt\n",
    "import cv2\n",
    "# Visualizations will be shown in the notebook.\n",
    "%matplotlib inline\n",
    "\n",
    "#for i,j in enumerate(y_train):\n",
    "#    if j==38:\n",
    "#        im = x_train[i]\n",
    "#        plt.imshow(im)\n",
    "\n",
    "index = random.randint(0, len(x_train))\n",
    "im = x_train[index]\n",
    "plt.imshow(im)\n",
    "print(\"Label ID is:\", y_train[index])"
   ]
  },
  {
   "cell_type": "code",
   "execution_count": null,
   "metadata": {
    "scrolled": false
   },
   "outputs": [],
   "source": [
    "# Get histograms of the images labels\n",
    "train_hist = np.histogram(y_train, bins = 43)\n",
    "valid_hist = np.histogram(y_valid, bins = 43)\n",
    "test_hist = np.histogram(y_test, bins = 43)\n",
    "\n",
    "# Generating bin centers\n",
    "bin_centers = range(43)\n",
    "\n",
    "# Plot histograms.\n",
    "fig, (ax1, ax2, ax3) = plt.subplots(3, 1, figsize = (10, 10))\n",
    "\n",
    "ax1.set_title('Training Dataset')\n",
    "ax1.set_xlabel('Label ID')\n",
    "ax1.set_ylabel('Num of Examples')\n",
    "ax1.set_xlim(-0.5, 42.5)\n",
    "ax1.set_xticks(range(43))\n",
    "ax1.bar(bin_centers, train_hist[0])\n",
    "\n",
    "ax2.set_title('Validation Dataset')\n",
    "ax2.set_xlabel('Label ID')\n",
    "ax2.set_ylabel('Num of Examples')\n",
    "ax2.set_xlim(-0.5, 42.5)\n",
    "ax2.set_xticks(range(43))\n",
    "ax2.bar(bin_centers, valid_hist[0])\n",
    "\n",
    "ax3.set_title('Test Dataset')\n",
    "ax3.set_xlabel('Label ID')\n",
    "ax3.set_ylabel('Num of Examples')\n",
    "ax3.set_xlim(-0.5, 42.5)\n",
    "ax3.set_xticks(range(43))\n",
    "ax3.bar(bin_centers, test_hist[0])\n",
    "\n",
    "fig.tight_layout()\n",
    "plt.show()\n",
    "\n",
    "fig.savefig('datasets_vis.jpg')"
   ]
  },
  {
   "cell_type": "markdown",
   "metadata": {},
   "source": [
    "----\n",
    "\n",
    "## Step 2: Design and Test a Model Architecture\n",
    "\n",
    "Design and implement a deep learning model that learns to recognize traffic signs. Train and test your model on the [German Traffic Sign Dataset](http://benchmark.ini.rub.de/?section=gtsrb&subsection=dataset).\n",
    "\n",
    "The LeNet-5 implementation shown in the [classroom](https://classroom.udacity.com/nanodegrees/nd013/parts/fbf77062-5703-404e-b60c-95b78b2f3f9e/modules/6df7ae49-c61c-4bb2-a23e-6527e69209ec/lessons/601ae704-1035-4287-8b11-e2c2716217ad/concepts/d4aca031-508f-4e0b-b493-e7b706120f81) at the end of the CNN lesson is a solid starting point. You'll have to change the number of classes and possibly the preprocessing, but aside from that it's plug and play! \n",
    "\n",
    "With the LeNet-5 solution from the lecture, you should expect a validation set accuracy of about 0.89. To meet specifications, the validation set accuracy will need to be at least 0.93. It is possible to get an even higher accuracy, but 0.93 is the minimum for a successful project submission. \n",
    "\n",
    "There are various aspects to consider when thinking about this problem:\n",
    "\n",
    "- Neural network architecture (is the network over or underfitting?)\n",
    "- Play around preprocessing techniques (normalization, rgb to grayscale, etc)\n",
    "- Number of examples per label (some have more than others).\n",
    "- Generate fake data.\n",
    "\n",
    "Here is an example of a [published baseline model on this problem](http://yann.lecun.com/exdb/publis/pdf/sermanet-ijcnn-11.pdf). It's not required to be familiar with the approach used in the paper but, it's good practice to try to read papers like these."
   ]
  },
  {
   "cell_type": "markdown",
   "metadata": {},
   "source": [
    "### Pre-process the Data Set (normalization, grayscale, etc.)"
   ]
  },
  {
   "cell_type": "markdown",
   "metadata": {},
   "source": [
    "Minimally, the image data should be normalized so that the data has mean zero and equal variance. For image data, `(pixel - 128)/ 128` is a quick way to approximately normalize the data and can be used in this project. \n",
    "\n",
    "Other pre-processing steps are optional. You can try different techniques to see if it improves performance. \n",
    "\n",
    "Use the code cell (or multiple code cells, if necessary) to implement the first step of your project."
   ]
  },
  {
   "cell_type": "code",
   "execution_count": null,
   "metadata": {},
   "outputs": [],
   "source": [
    "### Preprocess the data here. It is required to normalize the data. Other preprocessing steps could include \n",
    "### converting to grayscale, etc.\n",
    "### Feel free to use as many code cells as needed.\n",
    "from sklearn.utils import shuffle\n",
    "import cv2\n",
    "\n",
    "# Define a function to convert an array of color images to grayscale.\n",
    "def rgb2gray(x):\n",
    "    gray = np.zeros((len(x), 32, 32), dtype = np.uint8)\n",
    "    for i in range(len(x)):\n",
    "        gray[i] = cv2.cvtColor(x[i], cv2.COLOR_RGB2GRAY)\n",
    "    return np.expand_dims(gray, axis = 3)\n",
    "\n",
    "# Define a function to normalize an array of images.\n",
    "def normalize(x):\n",
    "    return (x.astype(float) - 128) / 128\n",
    "\n",
    "# Convert images to grayscale.\n",
    "x_train_gray = rgb2gray(x_train)\n",
    "x_valid_gray = rgb2gray(x_valid)\n",
    "x_test_gray = rgb2gray(x_test)\n",
    "\n",
    "# Normalize images.\n",
    "x_train_norm = normalize(x_train_gray)\n",
    "x_valid_norm = normalize(x_valid_gray)\n",
    "x_test_norm = normalize(x_test_gray)"
   ]
  },
  {
   "cell_type": "code",
   "execution_count": null,
   "metadata": {},
   "outputs": [],
   "source": [
    "# Visualize images after preprocessing.\n",
    "\n",
    "index = random.randint(0, len(x_train))\n",
    "im = x_train[index]\n",
    "im_gray = x_train_gray[index]\n",
    "im_norm = x_train_norm[index]\n",
    "\n",
    "fig, (ax1, ax2) = plt.subplots(1, 2, figsize = (10, 10))\n",
    "\n",
    "ax1.imshow(im)\n",
    "ax2.imshow(np.squeeze(im_gray, axis = 2), cmap = 'gray')\n",
    "\n",
    "fig.savefig('colorvsgray.jpg', bbox_inches = 'tight')"
   ]
  },
  {
   "cell_type": "markdown",
   "metadata": {},
   "source": [
    "### Model Architecture"
   ]
  },
  {
   "cell_type": "code",
   "execution_count": null,
   "metadata": {},
   "outputs": [],
   "source": [
    "### Define your architecture here.\n",
    "### Feel free to use as many code cells as needed.\n",
    "import tensorflow as tf\n",
    "from tensorflow.contrib.layers import flatten\n",
    "\n",
    "# Define model architecture.\n",
    "def LeNet(x, keep_prob):    \n",
    "    # Arguments used for tf.truncated_normal, randomly defines variables for the weights and biases for each layer\n",
    "    mu = 0\n",
    "    sigma = 0.1\n",
    "    \n",
    "    # Parameter variables.\n",
    "    weights = {'wc1': tf.Variable(tf.truncated_normal([3, 3, 1, 24], mean = mu, stddev = sigma)),\n",
    "               'wc2': tf.Variable(tf.truncated_normal([3, 3, 24, 36], mean = mu, stddev = sigma)),\n",
    "               'wc3': tf.Variable(tf.truncated_normal([3, 3, 36, 48], mean = mu, stddev = sigma)),\n",
    "               'wfc1': tf.Variable(tf.truncated_normal([768, 384], mean = mu, stddev = sigma)),\n",
    "               'wfc2': tf.Variable(tf.truncated_normal([384, 192], mean = mu, stddev = sigma)),\n",
    "               'wfc3': tf.Variable(tf.truncated_normal([192, 96], mean = mu, stddev = sigma)),\n",
    "               'wfc4': tf.Variable(tf.truncated_normal([96, 43], mean = mu, stddev = sigma))}\n",
    "    biases = {'bc1': tf.Variable(tf.zeros(24)),\n",
    "              'bc2': tf.Variable(tf.zeros(36)),\n",
    "              'bc3': tf.Variable(tf.zeros(48)),\n",
    "              'bfc1': tf.Variable(tf.zeros(384)),\n",
    "              'bfc2': tf.Variable(tf.zeros(192)),\n",
    "              'bfc3': tf.Variable(tf.zeros(96)),\n",
    "              'bfc4': tf.Variable(tf.zeros(43))}\n",
    "              \n",
    "    # Layer 1: 1st Convolution. Input = 32x32x1. Output = 30x30x24.\n",
    "    strides = [1, 1, 1, 1]\n",
    "    padding = 'VALID'\n",
    "    conv1 = tf.nn.conv2d(x, weights['wc1'], strides, padding) + biases['bc1']\n",
    "\n",
    "    # Activation.\n",
    "    conv1act = tf.nn.relu(conv1, name = 'conv1act')\n",
    "\n",
    "    # Pooling. Input = 30x30x24. Output = 15x15x24.\n",
    "    kernel = [1, 2, 2, 1]\n",
    "    strides = [1, 2, 2, 1]\n",
    "    padding = 'VALID'\n",
    "    pool1 = tf.nn.max_pool(conv1act, kernel, strides, padding)\n",
    "\n",
    "    # Layer 2: 2nd Convolution. Input = 15x15x24. Output = 13x13x36.\n",
    "    strides = [1, 1, 1, 1]\n",
    "    padding = 'VALID'\n",
    "    conv2 = tf.nn.conv2d(pool1, weights['wc2'], strides, padding) + biases['bc2']\n",
    "    \n",
    "    # Activation.\n",
    "    conv2act = tf.nn.relu(conv2, name = 'conv2act')\n",
    "\n",
    "    # Pooling. Input = 13x13x36. Output = 6x6x36.\n",
    "    kernel = [1, 2, 2, 1]\n",
    "    strides = [1, 2, 2, 1]\n",
    "    padding = 'VALID'\n",
    "    pool2 = tf.nn.max_pool(conv2act, kernel, strides, padding)\n",
    "    \n",
    "    # Layer 3: 3rd Convolution. Input = 6x6x36. Output = 4x4x48.\n",
    "    strides = [1, 1, 1, 1]\n",
    "    padding = 'VALID'\n",
    "    conv3 = tf.nn.conv2d(pool2, weights['wc3'], strides, padding) + biases['bc3']\n",
    "    \n",
    "    # Activation.\n",
    "    conv3act = tf.nn.relu(conv3, name = 'conv3act')\n",
    "\n",
    "    # Flatten. Input = 4x4x48. Output = 768.\n",
    "    flat = flatten(conv3act)\n",
    "    \n",
    "    # Layer 4: 1st Fully Connected Layer. Input = 768. Output = 384.\n",
    "    fc1 = tf.nn.dropout(tf.add(tf.matmul(flat, weights['wfc1']), biases['bfc1']), keep_prob)\n",
    "    \n",
    "    # Activation.\n",
    "    fc1act = tf.nn.relu(fc1)\n",
    "\n",
    "    # Layer 5: 2nd Fully Connected Layer. Input = 384. Output = 192.\n",
    "    fc2 = tf.nn.dropout(tf.add(tf.matmul(fc1act, weights['wfc2']), biases['bfc2']), keep_prob)\n",
    "    \n",
    "    # Activation.\n",
    "    fc2act = tf.nn.relu(fc2)\n",
    "    \n",
    "    # Layer 6: 3rd Fully Connected Layer. Input = 192. Output = 96.\n",
    "    fc3 = tf.nn.dropout(tf.add(tf.matmul(fc2act, weights['wfc3']), biases['bfc3']), keep_prob)\n",
    "    \n",
    "    # Activation.\n",
    "    fc3act = tf.nn.relu(fc3)\n",
    "\n",
    "    # Layer 7: Output Layer. Input = 96. Output = 43.\n",
    "    logits = tf.add(tf.matmul(fc3act, weights['wfc4']), biases['bfc4'])\n",
    "    \n",
    "    return logits"
   ]
  },
  {
   "cell_type": "markdown",
   "metadata": {},
   "source": [
    "### Train, Validate and Test the Model"
   ]
  },
  {
   "cell_type": "markdown",
   "metadata": {},
   "source": [
    "A validation set can be used to assess how well the model is performing. A low accuracy on the training and validation\n",
    "sets imply underfitting. A high accuracy on the training set but low accuracy on the validation set implies overfitting."
   ]
  },
  {
   "cell_type": "code",
   "execution_count": null,
   "metadata": {},
   "outputs": [],
   "source": [
    "### Train your model here.\n",
    "### Calculate and report the accuracy on the training and validation set.\n",
    "### Once a final model architecture is selected, \n",
    "### the accuracy on the test set should be calculated and reported as well.\n",
    "### Feel free to use as many code cells as needed.\n",
    "\n",
    "# Input data placeholders.\n",
    "x = tf.placeholder(tf.float32, (None, 32, 32, 1))\n",
    "y = tf.placeholder(tf.int32, (None))\n",
    "one_hot_y = tf.one_hot(y, 43)\n",
    "keep_prob = tf.placeholder(tf.float32)\n",
    "\n",
    "# Training hyperparameters.\n",
    "epochs = 10\n",
    "batch_size = 128\n",
    "rate = 0.001\n",
    "\n",
    "# Training pipeline.\n",
    "logits = LeNet(x, keep_prob)\n",
    "cross_entropy = tf.nn.softmax_cross_entropy_with_logits(labels = one_hot_y, logits = logits)\n",
    "loss_function = tf.reduce_mean(cross_entropy)\n",
    "optimizer = tf.train.AdamOptimizer(learning_rate = rate)\n",
    "training = optimizer.minimize(loss_function)"
   ]
  },
  {
   "cell_type": "code",
   "execution_count": null,
   "metadata": {},
   "outputs": [],
   "source": [
    "# Evaluation pipeline.\n",
    "correct_prediction = tf.equal(tf.argmax(logits, 1), tf.argmax(one_hot_y, 1))\n",
    "accuracy = tf.reduce_mean(tf.cast(correct_prediction, tf.float32))\n",
    "saver = tf.train.Saver()\n",
    "\n",
    "def evaluate(x_data, y_data):\n",
    "    num_examples = len(x_data)\n",
    "    accuracy_sum = 0\n",
    "    sess = tf.get_default_session()\n",
    "    for offset in range(0, num_examples, batch_size):\n",
    "        batch_x, batch_y = x_data[offset:offset + batch_size], y_data[offset:offset + batch_size]\n",
    "        accuracy_evaluation = sess.run(accuracy, feed_dict = {x: batch_x, y: batch_y, keep_prob: 1})\n",
    "        accuracy_sum += accuracy_evaluation\n",
    "        num_batches = np.ceil(num_examples / batch_size)\n",
    "    return accuracy_sum / num_batches"
   ]
  },
  {
   "cell_type": "code",
   "execution_count": null,
   "metadata": {
    "scrolled": false
   },
   "outputs": [],
   "source": [
    "# Train the model.\n",
    "with tf.Session() as sess:\n",
    "    sess.run(tf.global_variables_initializer())\n",
    "    num_examples = len(x_train)\n",
    "    \n",
    "    print(\"Training...\")\n",
    "    print()\n",
    "    for i in range(epochs):\n",
    "        x_train_norm, y_train = shuffle(x_train_norm, y_train)\n",
    "        for offset in range(0, num_examples, batch_size):\n",
    "            batch_x, batch_y = x_train_norm[offset:offset + batch_size], y_train[offset:offset + batch_size]\n",
    "            sess.run(training, feed_dict = {x: batch_x, y: batch_y, keep_prob: 0.6})\n",
    "        \n",
    "        training_accuracy = evaluate(x_train_norm, y_train)\n",
    "        validation_accuracy = evaluate(x_valid_norm, y_valid)\n",
    "        print(\"Epoch {} ...\".format(i + 1))\n",
    "        print(\"Training Accuracy = {:.3f}\".format(training_accuracy))\n",
    "        print(\"Validation Accuracy = {:.3f}\".format(validation_accuracy))\n",
    "        print()\n",
    "        \n",
    "    saver.save(sess, './tsigns')\n",
    "    print(\"Model saved\")"
   ]
  },
  {
   "cell_type": "code",
   "execution_count": null,
   "metadata": {},
   "outputs": [],
   "source": [
    "# Test the model.\n",
    "with tf.Session() as sess:\n",
    "    saver.restore(sess, tf.train.latest_checkpoint('.'))\n",
    "    test_accuracy = evaluate(x_test_norm, y_test)\n",
    "    print(\"Test Accuracy = {:.3f}\".format(test_accuracy))"
   ]
  },
  {
   "cell_type": "markdown",
   "metadata": {},
   "source": [
    "---\n",
    "\n",
    "## Step 3: Test a Model on New Images\n",
    "\n",
    "To give yourself more insight into how your model is working, download at least five pictures of German traffic signs from the web and use your model to predict the traffic sign type.\n",
    "\n",
    "You may find `signnames.csv` useful as it contains mappings from the class id (integer) to the actual sign name."
   ]
  },
  {
   "cell_type": "markdown",
   "metadata": {},
   "source": [
    "### Load and Output the Images"
   ]
  },
  {
   "cell_type": "code",
   "execution_count": null,
   "metadata": {},
   "outputs": [],
   "source": [
    "### Load the images and plot them here.\n",
    "### Feel free to use as many code cells as needed.\n",
    "\n",
    "# Read, Resize, and Expand the first dimension of the images, to make each image (1, 32, 32, 3).\n",
    "s1 = np.expand_dims((cv2.resize(plt.imread('data/8.jpg'), (32, 32))), axis = 0)\n",
    "s2 = np.expand_dims((cv2.resize(plt.imread('data/12.jpg'), (32, 32))), axis = 0)\n",
    "s3 = np.expand_dims((cv2.resize(plt.imread('data/14.jpg'), (32, 32))), axis = 0)\n",
    "s4 = np.expand_dims((cv2.resize(plt.imread('data/25.jpg'), (32, 32))), axis = 0)\n",
    "s5 = np.expand_dims((cv2.resize(plt.imread('data/38.jpg'), (32, 32))), axis = 0)\n",
    "\n",
    "# Plot images.\n",
    "f, (ax1, ax2, ax3, ax4, ax5) = plt.subplots(5, 1, figsize = (20, 20))\n",
    "ax1.imshow(np.squeeze(s1))\n",
    "ax2.imshow(np.squeeze(s2))\n",
    "ax3.imshow(np.squeeze(s3))\n",
    "ax4.imshow(np.squeeze(s4))\n",
    "ax5.imshow(np.squeeze(s5))"
   ]
  },
  {
   "cell_type": "markdown",
   "metadata": {},
   "source": [
    "### Predict the Sign Type for Each Image"
   ]
  },
  {
   "cell_type": "code",
   "execution_count": null,
   "metadata": {},
   "outputs": [],
   "source": [
    "### Run the predictions here and use the model to output the prediction for each image.\n",
    "### Make sure to pre-process the images with the same pre-processing pipeline used earlier.\n",
    "### Feel free to use as many code cells as needed.\n",
    "\n",
    "# Convert images to grayscale.\n",
    "s1_gray = rgb2gray(s1)\n",
    "s2_gray = rgb2gray(s2)\n",
    "s3_gray = rgb2gray(s3)\n",
    "s4_gray = rgb2gray(s4)\n",
    "s5_gray = rgb2gray(s5)\n",
    "\n",
    "# Normalize images.\n",
    "s1_norm = normalize(s1_gray)\n",
    "s2_norm = normalize(s2_gray)\n",
    "s3_norm = normalize(s3_gray)\n",
    "s4_norm = normalize(s4_gray)\n",
    "s5_norm = normalize(s5_gray)\n",
    "\n",
    "# Test the model on the 5 images dataset.\n",
    "with tf.Session() as sess:\n",
    "    saver.restore(sess, tf.train.latest_checkpoint('.'))\n",
    "\n",
    "    s1_softmax = sess.run(tf.nn.softmax(logits), feed_dict = {x: s1_norm, keep_prob: 1})\n",
    "    print(\"Image 1 Label is:\", np.argmax(s1_softmax))\n",
    "    s2_softmax = sess.run(tf.nn.softmax(logits), feed_dict = {x: s2_norm, keep_prob: 1})\n",
    "    print(\"Image 2 Label is:\", np.argmax(s2_softmax))\n",
    "    s3_softmax = sess.run(tf.nn.softmax(logits), feed_dict = {x: s3_norm, keep_prob: 1})\n",
    "    print(\"Image 3 Label is:\", np.argmax(s3_softmax))\n",
    "    s4_softmax = sess.run(tf.nn.softmax(logits), feed_dict = {x: s4_norm, keep_prob: 1})\n",
    "    print(\"Image 4 Label is:\", np.argmax(s4_softmax))\n",
    "    s5_softmax = sess.run(tf.nn.softmax(logits), feed_dict = {x: s5_norm, keep_prob: 1})\n",
    "    print(\"Image 5 Label is:\", np.argmax(s5_softmax))"
   ]
  },
  {
   "cell_type": "markdown",
   "metadata": {},
   "source": [
    "### Analyze Performance"
   ]
  },
  {
   "cell_type": "code",
   "execution_count": null,
   "metadata": {},
   "outputs": [],
   "source": [
    "### Calculate the accuracy for these 5 new images. \n",
    "### For example, if the model predicted 1 out of 5 signs correctly, it's 20% accurate on these new images.\n",
    "\n",
    "x_internet_test = np.concatenate((s1_norm, s2_norm, s3_norm, s4_norm, s5_norm), axis = 0)\n",
    "y_internet_test = np.array([8, 12, 14, 25, 38], np.uint8)\n",
    "\n",
    "with tf.Session() as sess:\n",
    "    saver.restore(sess, tf.train.latest_checkpoint('.'))\n",
    "\n",
    "    internet_test_accuracy = evaluate(x_internet_test, y_internet_test)\n",
    "    print(\"Internet Test Accuracy = {:.3f}\".format(internet_test_accuracy))"
   ]
  },
  {
   "cell_type": "markdown",
   "metadata": {},
   "source": [
    "### Output Top 5 Softmax Probabilities For Each Image Found on the Web"
   ]
  },
  {
   "cell_type": "markdown",
   "metadata": {},
   "source": [
    "For each of the new images, print out the model's softmax probabilities to show the **certainty** of the model's predictions (limit the output to the top 5 probabilities for each image). [`tf.nn.top_k`](https://www.tensorflow.org/versions/r0.12/api_docs/python/nn.html#top_k) could prove helpful here. \n",
    "\n",
    "The example below demonstrates how tf.nn.top_k can be used to find the top k predictions for each image.\n",
    "\n",
    "`tf.nn.top_k` will return the values and indices (class ids) of the top k predictions. So if k=3, for each sign, it'll return the 3 largest probabilities (out of a possible 43) and the correspoding class ids.\n",
    "\n",
    "Take this numpy array as an example. The values in the array represent predictions. The array contains softmax probabilities for five candidate images with six possible classes. `tf.nn.top_k` is used to choose the three classes with the highest probability:\n",
    "\n",
    "```\n",
    "# (5, 6) array\n",
    "a = np.array([[ 0.24879643,  0.07032244,  0.12641572,  0.34763842,  0.07893497,\n",
    "         0.12789202],\n",
    "       [ 0.28086119,  0.27569815,  0.08594638,  0.0178669 ,  0.18063401,\n",
    "         0.15899337],\n",
    "       [ 0.26076848,  0.23664738,  0.08020603,  0.07001922,  0.1134371 ,\n",
    "         0.23892179],\n",
    "       [ 0.11943333,  0.29198961,  0.02605103,  0.26234032,  0.1351348 ,\n",
    "         0.16505091],\n",
    "       [ 0.09561176,  0.34396535,  0.0643941 ,  0.16240774,  0.24206137,\n",
    "         0.09155967]])\n",
    "```\n",
    "\n",
    "Running it through `sess.run(tf.nn.top_k(tf.constant(a), k=3))` produces:\n",
    "\n",
    "```\n",
    "TopKV2(values=array([[ 0.34763842,  0.24879643,  0.12789202],\n",
    "       [ 0.28086119,  0.27569815,  0.18063401],\n",
    "       [ 0.26076848,  0.23892179,  0.23664738],\n",
    "       [ 0.29198961,  0.26234032,  0.16505091],\n",
    "       [ 0.34396535,  0.24206137,  0.16240774]]), indices=array([[3, 0, 5],\n",
    "       [0, 1, 4],\n",
    "       [0, 5, 1],\n",
    "       [1, 3, 5],\n",
    "       [1, 4, 3]], dtype=int32))\n",
    "```\n",
    "\n",
    "Looking just at the first row we get `[ 0.34763842,  0.24879643,  0.12789202]`, you can confirm these are the 3 largest probabilities in `a`. You'll also notice `[3, 0, 5]` are the corresponding indices."
   ]
  },
  {
   "cell_type": "code",
   "execution_count": null,
   "metadata": {},
   "outputs": [],
   "source": [
    "### Print out the top five softmax probabilities for the predictions on the German traffic sign images found on the web. \n",
    "### Feel free to use as many code cells as needed.\n",
    "\n",
    "# Print top 5 probabilities for first image.\n",
    "with tf.Session() as sess:\n",
    "    output = sess.run(tf.nn.top_k(tf.constant(s1_softmax), k = 5))\n",
    "    \n",
    "print(output)"
   ]
  },
  {
   "cell_type": "code",
   "execution_count": null,
   "metadata": {},
   "outputs": [],
   "source": [
    "# Print top 5 probabilities for second image.\n",
    "with tf.Session() as sess:\n",
    "    output = sess.run(tf.nn.top_k(tf.constant(s2_softmax), k = 5))\n",
    "    \n",
    "print(output)"
   ]
  },
  {
   "cell_type": "code",
   "execution_count": null,
   "metadata": {},
   "outputs": [],
   "source": [
    "# Print top 5 probabilities for third image.\n",
    "with tf.Session() as sess:\n",
    "    output = sess.run(tf.nn.top_k(tf.constant(s3_softmax), k = 5))\n",
    "    \n",
    "print(output)"
   ]
  },
  {
   "cell_type": "code",
   "execution_count": null,
   "metadata": {},
   "outputs": [],
   "source": [
    "# Print top 5 probabilities for fourth image.\n",
    "with tf.Session() as sess:\n",
    "    output = sess.run(tf.nn.top_k(tf.constant(s4_softmax), k = 5))\n",
    "    \n",
    "print(output)"
   ]
  },
  {
   "cell_type": "code",
   "execution_count": null,
   "metadata": {},
   "outputs": [],
   "source": [
    "# Print top 5 probabilities for fifth image.\n",
    "with tf.Session() as sess:\n",
    "    output = sess.run(tf.nn.top_k(tf.constant(s5_softmax), k = 5))\n",
    "    \n",
    "print(output)"
   ]
  },
  {
   "cell_type": "markdown",
   "metadata": {},
   "source": [
    "### Project Writeup\n",
    "\n",
    "Once you have completed the code implementation, document your results in a project writeup using this [template](https://github.com/udacity/CarND-Traffic-Sign-Classifier-Project/blob/master/writeup_template.md) as a guide. The writeup can be in a markdown or pdf file. "
   ]
  },
  {
   "cell_type": "markdown",
   "metadata": {},
   "source": [
    "> **Note**: Once you have completed all of the code implementations and successfully answered each question above, you may finalize your work by exporting the iPython Notebook as an HTML document. You can do this by using the menu above and navigating to  \\n\",\n",
    "    \"**File -> Download as -> HTML (.html)**. Include the finished document along with this notebook as your submission."
   ]
  },
  {
   "cell_type": "markdown",
   "metadata": {},
   "source": [
    "---\n",
    "\n",
    "## Step 4 (Optional): Visualize the Neural Network's State with Test Images\n",
    "\n",
    " This Section is not required to complete but acts as an additional excersise for understaning the output of a neural network's weights. While neural networks can be a great learning device they are often referred to as a black box. We can understand what the weights of a neural network look like better by plotting their feature maps. After successfully training your neural network you can see what it's feature maps look like by plotting the output of the network's weight layers in response to a test stimuli image. From these plotted feature maps, it's possible to see what characteristics of an image the network finds interesting. For a sign, maybe the inner network feature maps react with high activation to the sign's boundary outline or to the contrast in the sign's painted symbol.\n",
    "\n",
    " Provided for you below is the function code that allows you to get the visualization output of any tensorflow weight layer you want. The inputs to the function should be a stimuli image, one used during training or a new one you provided, and then the tensorflow variable name that represents the layer's state during the training process, for instance if you wanted to see what the [LeNet lab's](https://classroom.udacity.com/nanodegrees/nd013/parts/fbf77062-5703-404e-b60c-95b78b2f3f9e/modules/6df7ae49-c61c-4bb2-a23e-6527e69209ec/lessons/601ae704-1035-4287-8b11-e2c2716217ad/concepts/d4aca031-508f-4e0b-b493-e7b706120f81) feature maps looked like for it's second convolutional layer you could enter conv2 as the tf_activation variable.\n",
    "\n",
    "For an example of what feature map outputs look like, check out NVIDIA's results in their paper [End-to-End Deep Learning for Self-Driving Cars](https://devblogs.nvidia.com/parallelforall/deep-learning-self-driving-cars/) in the section Visualization of internal CNN State. NVIDIA was able to show that their network's inner weights had high activations to road boundary lines by comparing feature maps from an image with a clear path to one without. Try experimenting with a similar test to show that your trained network's weights are looking for interesting features, whether it's looking at differences in feature maps from images with or without a sign, or even what feature maps look like in a trained network vs a completely untrained one on the same sign image.\n",
    "\n",
    "<figure>\n",
    " <img src=\"visualize_cnn.png\" width=\"380\" alt=\"Combined Image\" />\n",
    " <figcaption>\n",
    " <p></p> \n",
    " <p style=\"text-align: center;\"> Your output should look something like this (above)</p> \n",
    " </figcaption>\n",
    "</figure>\n",
    " <p></p> \n"
   ]
  },
  {
   "cell_type": "code",
   "execution_count": null,
   "metadata": {},
   "outputs": [],
   "source": [
    "### Visualize your network's feature maps here.\n",
    "### Feel free to use as many code cells as needed.\n",
    "\n",
    "# image_input: the test image being fed into the network to produce the feature maps\n",
    "# tf_activation: should be a tf variable name used during your training procedure that represents the calculated state of a specific weight layer\n",
    "# activation_min/max: can be used to view the activation contrast in more detail, by default matplot sets min and max to the actual min and max values of the output\n",
    "# plt_num: used to plot out multiple different weight feature map sets on the same block, just extend the plt number for each new feature map entry\n",
    "\n",
    "def outputFeatureMap(image_input, tf_activation, activation_min=-1, activation_max=-1 ,plt_num=1):\n",
    "    # Here make sure to preprocess your image_input in a way your network expects\n",
    "    # with size, normalization, ect if needed\n",
    "    # image_input =\n",
    "    # Note: x should be the same name as your network's tensorflow data placeholder variable\n",
    "    # If you get an error tf_activation is not defined it may be having trouble accessing the variable from inside a function   \n",
    "    activation = tf_activation.eval(session=sess,feed_dict={x : image_input})\n",
    "    featuremaps = activation.shape[3]\n",
    "    plt.figure(plt_num, figsize=(15,15))\n",
    "    for featuremap in range(featuremaps):\n",
    "        plt.subplot(6,8, featuremap+1) # sets the number of feature maps to show on each row and column\n",
    "        plt.title('FeatureMap ' + str(featuremap)) # displays the feature map number\n",
    "        if activation_min != -1 & activation_max != -1:\n",
    "            plt.imshow(activation[0,:,:, featuremap], interpolation=\"nearest\", vmin =activation_min, vmax=activation_max, cmap=\"gray\")\n",
    "        elif activation_max != -1:\n",
    "            plt.imshow(activation[0,:,:, featuremap], interpolation=\"nearest\", vmax=activation_max, cmap=\"gray\")\n",
    "        elif activation_min !=-1:\n",
    "            plt.imshow(activation[0,:,:, featuremap], interpolation=\"nearest\", vmin=activation_min, cmap=\"gray\")\n",
    "        else:\n",
    "            plt.imshow(activation[0,:,:, featuremap], interpolation=\"nearest\", cmap=\"gray\")"
   ]
  },
  {
   "cell_type": "code",
   "execution_count": null,
   "metadata": {},
   "outputs": [],
   "source": [
    "# Visualize feature maps of a sign image using trained weights.\n",
    "\n",
    "with tf.Session() as sess:\n",
    "    saver.restore(sess, tf.train.latest_checkpoint('.')) \n",
    "    \n",
    "    conv1act = tf.get_default_graph().get_tensor_by_name(\"conv1act:0\")  \n",
    "    outputFeatureMap(s4_norm, conv1act, plt_num=1)\n",
    "    \n",
    "    conv2act = tf.get_default_graph().get_tensor_by_name(\"conv2act:0\")  \n",
    "    outputFeatureMap(s4_norm, conv2act, plt_num=2)\n",
    "    \n",
    "    conv3act = tf.get_default_graph().get_tensor_by_name(\"conv3act:0\")  \n",
    "    outputFeatureMap(s4_norm, conv3act, plt_num=3)"
   ]
  },
  {
   "cell_type": "code",
   "execution_count": null,
   "metadata": {},
   "outputs": [],
   "source": [
    "# Visualize feature maps of a sign image using untrained weights.\n",
    "\n",
    "with tf.Session() as sess:\n",
    "    sess.run(tf.global_variables_initializer())\n",
    "\n",
    "    conv1act = tf.get_default_graph().get_tensor_by_name(\"conv1act:0\")  \n",
    "    outputFeatureMap(s4_norm, conv1act, plt_num=1)\n",
    "    \n",
    "    conv2act = tf.get_default_graph().get_tensor_by_name(\"conv2act:0\")  \n",
    "    outputFeatureMap(s4_norm, conv2act, plt_num=2)\n",
    "    \n",
    "    conv3act = tf.get_default_graph().get_tensor_by_name(\"conv3act:0\")  \n",
    "    outputFeatureMap(s4_norm, conv3act, plt_num=3)"
   ]
  },
  {
   "cell_type": "code",
   "execution_count": null,
   "metadata": {},
   "outputs": [],
   "source": [
    "# Visualize feature maps of a non-traffic sign image using trained weights\n",
    "\n",
    "# Read, Resize, and Expand the first dimension of the image, to make each image (1, 32, 32, 3).\n",
    "non_sign = np.expand_dims((cv2.resize(plt.imread('data/non_sign.jpg'), (32, 32))), axis = 0)\n",
    "\n",
    "# Convert image to grayscale.\n",
    "non_sign_gray = rgb2gray(non_sign)\n",
    "\n",
    "# Normalize image.\n",
    "non_sign_norm = normalize(non_sign_gray)\n",
    "\n",
    "with tf.Session() as sess:\n",
    "    saver.restore(sess, tf.train.latest_checkpoint('.')) \n",
    "\n",
    "    conv1act = tf.get_default_graph().get_tensor_by_name(\"conv1act:0\")  \n",
    "    outputFeatureMap(non_sign_norm, conv1act, plt_num=1)\n",
    "    \n",
    "    conv2act = tf.get_default_graph().get_tensor_by_name(\"conv2act:0\")  \n",
    "    outputFeatureMap(non_sign_norm, conv2act, plt_num=2)\n",
    "    \n",
    "    conv3act = tf.get_default_graph().get_tensor_by_name(\"conv3act:0\")  \n",
    "    outputFeatureMap(non_sign_norm, conv3act, plt_num=3)"
   ]
  },
  {
   "cell_type": "code",
   "execution_count": null,
   "metadata": {},
   "outputs": [],
   "source": []
  }
 ],
 "metadata": {
  "anaconda-cloud": {},
  "kernelspec": {
   "display_name": "Python 3",
   "language": "python",
   "name": "python3"
  },
  "language_info": {
   "codemirror_mode": {
    "name": "ipython",
    "version": 3
   },
   "file_extension": ".py",
   "mimetype": "text/x-python",
   "name": "python",
   "nbconvert_exporter": "python",
   "pygments_lexer": "ipython3",
   "version": "3.5.2"
  },
  "widgets": {
   "state": {},
   "version": "1.1.2"
  }
 },
 "nbformat": 4,
 "nbformat_minor": 1
}
